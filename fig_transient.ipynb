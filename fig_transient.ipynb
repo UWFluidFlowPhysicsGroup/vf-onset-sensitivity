{
 "cells": [
  {
   "cell_type": "code",
   "execution_count": null,
   "id": "6d9e80dd-a6e7-4d67-886b-132006d440f2",
   "metadata": {},
   "outputs": [],
   "source": [
    "from tqdm.notebook import tqdm\n",
    "from os.path import isfile\n",
    "\n",
    "import h5py\n",
    "import numpy as np\n",
    "import matplotlib.pyplot as plt\n",
    "from lib_main_transient import case_config\n",
    "\n",
    "from femvf import load, statefile as sf\n",
    "from femvf.models import solid as smd, fluid as fmd\n",
    "from femvf.signals.solid import make_sig_glottal_width_sharp\n",
    "\n",
    "import h5utils"
   ]
  },
  {
   "cell_type": "code",
   "execution_count": null,
   "id": "48a8ff8b-1dca-4c33-aa76-ebc4ba1418b1",
   "metadata": {},
   "outputs": [],
   "source": [
    "# global configuration\n",
    "ZETA = 1e-4\n",
    "R_SEP = 1.0\n",
    "Y_GAP = 1e-2\n",
    "PSUBS = np.concatenate([np.arange(200, 300, 10), np.arange(300, 1000, 100)])*10\n",
    "ECOV = 5e3 * 10\n",
    "EBODY = 15e3 * 10\n",
    "\n",
    "INIT_STATE_TYPE = 'zero'\n",
    "\n",
    "OUT_DIR = f'out/zeta{ZETA:.2e}_rsep{R_SEP:.1f}_ygap{Y_GAP:.2e}_init{INIT_STATE_TYPE}'\n",
    "\n",
    "mesh_name = 'BC-dcov5.00e-02-cl1.00'\n",
    "mesh_path = f'mesh/{mesh_name}.xml'\n",
    "model = load.load_fsi_model(mesh_path, None, SolidType=smd.KelvinVoigt, FluidType=fmd.Bernoulli, coupling='explicit')"
   ]
  },
  {
   "cell_type": "code",
   "execution_count": null,
   "id": "2ed2f040-67a6-4ea3-b2f9-f88734d18819",
   "metadata": {},
   "outputs": [],
   "source": [
    "glottal_width = make_sig_glottal_width_sharp(model)\n",
    "\n",
    "def time(f):\n",
    "    return np.array(f.get_times())"
   ]
  },
  {
   "cell_type": "code",
   "execution_count": null,
   "id": "c0822e03-63ca-4681-9ef8-f323eb5ed2b7",
   "metadata": {},
   "outputs": [],
   "source": [
    "## Post processing script\n",
    "postprocess_fname = f'{OUT_DIR}/data.h5'\n",
    "\n",
    "case_to_data = {}\n",
    "if isfile(postprocess_fname):\n",
    "    with h5py.File(postprocess_fname, mode='r') as f:\n",
    "        case_to_data = h5utils.h5_to_dict(f, case_to_data)\n",
    "\n",
    "signal_to_proc = {\n",
    "    'glottal_width': glottal_width,\n",
    "    'time': time}\n",
    "\n",
    "case_to_data_update = {}\n",
    "for psub in tqdm(PSUBS):\n",
    "    case = case_config(mesh_name, psub, ECOV, EBODY)\n",
    "    file_path = f'{OUT_DIR}/{case}.h5'\n",
    "    # with sf.StateFile(model, file_path, mode='r') as f:\n",
    "    #     print(f.get_properties()['ycontact'])\n",
    "    #     print(f.get_properties()['kcontact'])\n",
    "    #     print(f.get_properties()['zeta_amin'])\n",
    "    #     print(f.get_properties()['zeta_sep'])\n",
    "    #     print(f.get_properties()['r_sep'])\n",
    "    #     print(f.get_properties()['ygap_lb'])\n",
    "    #     print()\n",
    "    \n",
    "    for signame, proc in signal_to_proc.items():\n",
    "        key = f'{case}/{signame}'\n",
    "        if key not in case_to_data and isfile(file_path):\n",
    "            with sf.StateFile(model, file_path, mode='r') as f:\n",
    "                case_to_data_update[key] = proc(f)\n",
    "        \n",
    "with h5py.File(postprocess_fname, mode='a') as f:       \n",
    "    h5utils.dict_to_h5(case_to_data_update, f)\n",
    "    \n",
    "case_to_data.update(case_to_data_update)"
   ]
  },
  {
   "cell_type": "code",
   "execution_count": null,
   "id": "67ef626a-8b8e-4754-bcb2-f8c55b2a78e4",
   "metadata": {},
   "outputs": [],
   "source": [
    "fig, ax = plt.subplots(1, 1, figsize=(6, 6))\n",
    "\n",
    "for psub in PSUBS[10:]:\n",
    "    try:\n",
    "        case = case_config(mesh_name, psub, ECOV, EBODY)\n",
    "        t = case_to_data[f'{case}/time']\n",
    "        gw = case_to_data[f'{case}/glottal_width']\n",
    "        ax.plot(t, gw, label=f\"$p_{{sub}}$: {psub/10:.1f} Pa\", lw=1.0)\n",
    "    except:\n",
    "        pass\n",
    "    \n",
    "# ax.set_xlim(0.49, 0.5)\n",
    "\n",
    "t0 = 0.05\n",
    "ax.set_xlim(t0, t0+0.025)\n",
    "# ax.set_xlim(0, 0.1)\n",
    "ax.set_xlabel(\"Time [s]\")\n",
    "ax.set_ylabel(\"Glottal width [cm]\")\n",
    "\n",
    "ax.legend(loc='lower left', bbox_to_anchor=(0, 1))\n",
    "\n",
    "fig.tight_layout()\n",
    "fig.savefig(f'{OUT_DIR}/TransientSimulation-closeup.png')"
   ]
  },
  {
   "cell_type": "code",
   "execution_count": null,
   "id": "76c7248d-d942-4b71-ae1a-ac54ad3b587f",
   "metadata": {},
   "outputs": [],
   "source": []
  }
 ],
 "metadata": {
  "kernelspec": {
   "display_name": "Python 3 (ipykernel)",
   "language": "python",
   "name": "python3"
  },
  "language_info": {
   "codemirror_mode": {
    "name": "ipython",
    "version": 3
   },
   "file_extension": ".py",
   "mimetype": "text/x-python",
   "name": "python",
   "nbconvert_exporter": "python",
   "pygments_lexer": "ipython3",
   "version": "3.9.7"
  }
 },
 "nbformat": 4,
 "nbformat_minor": 5
}
